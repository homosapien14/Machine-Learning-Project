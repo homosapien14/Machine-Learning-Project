{
 "cells": [
  {
   "cell_type": "markdown",
   "metadata": {
    "papermill": {
     "duration": 0.029505,
     "end_time": "2020-12-25T17:43:02.223354",
     "exception": false,
     "start_time": "2020-12-25T17:43:02.193849",
     "status": "completed"
    },
    "tags": []
   },
   "source": [
    "# CROP RECOMMENDATION SYSTEM "
   ]
  },
  {
   "cell_type": "code",
   "execution_count": 1,
   "metadata": {
    "execution": {
     "iopub.execute_input": "2020-12-25T17:43:02.667839Z",
     "iopub.status.busy": "2020-12-25T17:43:02.667308Z",
     "iopub.status.idle": "2020-12-25T17:43:03.833552Z",
     "shell.execute_reply": "2020-12-25T17:43:03.833971Z"
    },
    "papermill": {
     "duration": 1.19661,
     "end_time": "2020-12-25T17:43:03.834142",
     "exception": false,
     "start_time": "2020-12-25T17:43:02.637532",
     "status": "completed"
    },
    "tags": []
   },
   "outputs": [],
   "source": [
    "# Importing libraries\n",
    "\n",
    "\n",
    "import pandas as pd\n",
    "import numpy as np\n",
    "import matplotlib.pyplot as plt\n",
    "import seaborn as sns\n",
    "from sklearn.metrics import classification_report\n",
    "from sklearn import metrics\n",
    "from sklearn import tree\n"
   ]
  },
  {
   "cell_type": "code",
   "execution_count": 2,
   "metadata": {
    "execution": {
     "iopub.execute_input": "2020-12-25T17:43:03.904908Z",
     "iopub.status.busy": "2020-12-25T17:43:03.904244Z",
     "iopub.status.idle": "2020-12-25T17:43:03.923799Z",
     "shell.execute_reply": "2020-12-25T17:43:03.923260Z"
    },
    "papermill": {
     "duration": 0.061182,
     "end_time": "2020-12-25T17:43:03.923887",
     "exception": false,
     "start_time": "2020-12-25T17:43:03.862705",
     "status": "completed"
    },
    "tags": []
   },
   "outputs": [],
   "source": [
    "df = pd.read_csv(\"Crop_recommendation.csv\")"
   ]
  },
  {
   "cell_type": "code",
   "execution_count": 3,
   "metadata": {
    "execution": {
     "iopub.execute_input": "2020-12-25T17:43:03.994102Z",
     "iopub.status.busy": "2020-12-25T17:43:03.987500Z",
     "iopub.status.idle": "2020-12-25T17:43:04.003587Z",
     "shell.execute_reply": "2020-12-25T17:43:04.003999Z"
    },
    "papermill": {
     "duration": 0.052002,
     "end_time": "2020-12-25T17:43:04.004101",
     "exception": false,
     "start_time": "2020-12-25T17:43:03.952099",
     "status": "completed"
    },
    "tags": []
   },
   "outputs": [
    {
     "data": {
      "text/html": [
       "<div>\n",
       "<style scoped>\n",
       "    .dataframe tbody tr th:only-of-type {\n",
       "        vertical-align: middle;\n",
       "    }\n",
       "\n",
       "    .dataframe tbody tr th {\n",
       "        vertical-align: top;\n",
       "    }\n",
       "\n",
       "    .dataframe thead th {\n",
       "        text-align: right;\n",
       "    }\n",
       "</style>\n",
       "<table border=\"1\" class=\"dataframe\">\n",
       "  <thead>\n",
       "    <tr style=\"text-align: right;\">\n",
       "      <th></th>\n",
       "      <th>N</th>\n",
       "      <th>P</th>\n",
       "      <th>K</th>\n",
       "      <th>temperature</th>\n",
       "      <th>humidity</th>\n",
       "      <th>ph</th>\n",
       "      <th>rainfall</th>\n",
       "      <th>label</th>\n",
       "    </tr>\n",
       "  </thead>\n",
       "  <tbody>\n",
       "    <tr>\n",
       "      <th>0</th>\n",
       "      <td>90</td>\n",
       "      <td>42</td>\n",
       "      <td>43</td>\n",
       "      <td>20.879744</td>\n",
       "      <td>82.002744</td>\n",
       "      <td>6.502985</td>\n",
       "      <td>202.935536</td>\n",
       "      <td>rice</td>\n",
       "    </tr>\n",
       "    <tr>\n",
       "      <th>1</th>\n",
       "      <td>85</td>\n",
       "      <td>58</td>\n",
       "      <td>41</td>\n",
       "      <td>21.770462</td>\n",
       "      <td>80.319644</td>\n",
       "      <td>7.038096</td>\n",
       "      <td>226.655537</td>\n",
       "      <td>rice</td>\n",
       "    </tr>\n",
       "    <tr>\n",
       "      <th>2</th>\n",
       "      <td>60</td>\n",
       "      <td>55</td>\n",
       "      <td>44</td>\n",
       "      <td>23.004459</td>\n",
       "      <td>82.320763</td>\n",
       "      <td>7.840207</td>\n",
       "      <td>263.964248</td>\n",
       "      <td>rice</td>\n",
       "    </tr>\n",
       "    <tr>\n",
       "      <th>3</th>\n",
       "      <td>74</td>\n",
       "      <td>35</td>\n",
       "      <td>40</td>\n",
       "      <td>26.491096</td>\n",
       "      <td>80.158363</td>\n",
       "      <td>6.980401</td>\n",
       "      <td>242.864034</td>\n",
       "      <td>rice</td>\n",
       "    </tr>\n",
       "    <tr>\n",
       "      <th>4</th>\n",
       "      <td>78</td>\n",
       "      <td>42</td>\n",
       "      <td>42</td>\n",
       "      <td>20.130175</td>\n",
       "      <td>81.604873</td>\n",
       "      <td>7.628473</td>\n",
       "      <td>262.717340</td>\n",
       "      <td>rice</td>\n",
       "    </tr>\n",
       "  </tbody>\n",
       "</table>\n",
       "</div>"
      ],
      "text/plain": [
       "    N   P   K  temperature   humidity        ph    rainfall label\n",
       "0  90  42  43    20.879744  82.002744  6.502985  202.935536  rice\n",
       "1  85  58  41    21.770462  80.319644  7.038096  226.655537  rice\n",
       "2  60  55  44    23.004459  82.320763  7.840207  263.964248  rice\n",
       "3  74  35  40    26.491096  80.158363  6.980401  242.864034  rice\n",
       "4  78  42  42    20.130175  81.604873  7.628473  262.717340  rice"
      ]
     },
     "execution_count": 3,
     "metadata": {},
     "output_type": "execute_result"
    }
   ],
   "source": [
    "df.head()"
   ]
  },
  {
   "cell_type": "code",
   "execution_count": 4,
   "metadata": {
    "execution": {
     "iopub.execute_input": "2020-12-25T17:43:04.063734Z",
     "iopub.status.busy": "2020-12-25T17:43:04.063222Z",
     "iopub.status.idle": "2020-12-25T17:43:04.072912Z",
     "shell.execute_reply": "2020-12-25T17:43:04.073302Z"
    },
    "papermill": {
     "duration": 0.040534,
     "end_time": "2020-12-25T17:43:04.073406",
     "exception": false,
     "start_time": "2020-12-25T17:43:04.032872",
     "status": "completed"
    },
    "tags": []
   },
   "outputs": [
    {
     "data": {
      "text/html": [
       "<div>\n",
       "<style scoped>\n",
       "    .dataframe tbody tr th:only-of-type {\n",
       "        vertical-align: middle;\n",
       "    }\n",
       "\n",
       "    .dataframe tbody tr th {\n",
       "        vertical-align: top;\n",
       "    }\n",
       "\n",
       "    .dataframe thead th {\n",
       "        text-align: right;\n",
       "    }\n",
       "</style>\n",
       "<table border=\"1\" class=\"dataframe\">\n",
       "  <thead>\n",
       "    <tr style=\"text-align: right;\">\n",
       "      <th></th>\n",
       "      <th>N</th>\n",
       "      <th>P</th>\n",
       "      <th>K</th>\n",
       "      <th>temperature</th>\n",
       "      <th>humidity</th>\n",
       "      <th>ph</th>\n",
       "      <th>rainfall</th>\n",
       "      <th>label</th>\n",
       "    </tr>\n",
       "  </thead>\n",
       "  <tbody>\n",
       "    <tr>\n",
       "      <th>2195</th>\n",
       "      <td>107</td>\n",
       "      <td>34</td>\n",
       "      <td>32</td>\n",
       "      <td>26.774637</td>\n",
       "      <td>66.413269</td>\n",
       "      <td>6.780064</td>\n",
       "      <td>177.774507</td>\n",
       "      <td>coffee</td>\n",
       "    </tr>\n",
       "    <tr>\n",
       "      <th>2196</th>\n",
       "      <td>99</td>\n",
       "      <td>15</td>\n",
       "      <td>27</td>\n",
       "      <td>27.417112</td>\n",
       "      <td>56.636362</td>\n",
       "      <td>6.086922</td>\n",
       "      <td>127.924610</td>\n",
       "      <td>coffee</td>\n",
       "    </tr>\n",
       "    <tr>\n",
       "      <th>2197</th>\n",
       "      <td>118</td>\n",
       "      <td>33</td>\n",
       "      <td>30</td>\n",
       "      <td>24.131797</td>\n",
       "      <td>67.225123</td>\n",
       "      <td>6.362608</td>\n",
       "      <td>173.322839</td>\n",
       "      <td>coffee</td>\n",
       "    </tr>\n",
       "    <tr>\n",
       "      <th>2198</th>\n",
       "      <td>117</td>\n",
       "      <td>32</td>\n",
       "      <td>34</td>\n",
       "      <td>26.272418</td>\n",
       "      <td>52.127394</td>\n",
       "      <td>6.758793</td>\n",
       "      <td>127.175293</td>\n",
       "      <td>coffee</td>\n",
       "    </tr>\n",
       "    <tr>\n",
       "      <th>2199</th>\n",
       "      <td>104</td>\n",
       "      <td>18</td>\n",
       "      <td>30</td>\n",
       "      <td>23.603016</td>\n",
       "      <td>60.396475</td>\n",
       "      <td>6.779833</td>\n",
       "      <td>140.937041</td>\n",
       "      <td>coffee</td>\n",
       "    </tr>\n",
       "  </tbody>\n",
       "</table>\n",
       "</div>"
      ],
      "text/plain": [
       "        N   P   K  temperature   humidity        ph    rainfall   label\n",
       "2195  107  34  32    26.774637  66.413269  6.780064  177.774507  coffee\n",
       "2196   99  15  27    27.417112  56.636362  6.086922  127.924610  coffee\n",
       "2197  118  33  30    24.131797  67.225123  6.362608  173.322839  coffee\n",
       "2198  117  32  34    26.272418  52.127394  6.758793  127.175293  coffee\n",
       "2199  104  18  30    23.603016  60.396475  6.779833  140.937041  coffee"
      ]
     },
     "execution_count": 4,
     "metadata": {},
     "output_type": "execute_result"
    }
   ],
   "source": [
    "df.tail()"
   ]
  },
  {
   "cell_type": "code",
   "execution_count": 5,
   "metadata": {
    "execution": {
     "iopub.execute_input": "2020-12-25T17:43:04.134317Z",
     "iopub.status.busy": "2020-12-25T17:43:04.133783Z",
     "iopub.status.idle": "2020-12-25T17:43:04.138137Z",
     "shell.execute_reply": "2020-12-25T17:43:04.138570Z"
    },
    "papermill": {
     "duration": 0.036159,
     "end_time": "2020-12-25T17:43:04.138677",
     "exception": false,
     "start_time": "2020-12-25T17:43:04.102518",
     "status": "completed"
    },
    "tags": []
   },
   "outputs": [
    {
     "data": {
      "text/plain": [
       "17600"
      ]
     },
     "execution_count": 5,
     "metadata": {},
     "output_type": "execute_result"
    }
   ],
   "source": [
    "df.size"
   ]
  },
  {
   "cell_type": "code",
   "execution_count": 6,
   "metadata": {
    "execution": {
     "iopub.execute_input": "2020-12-25T17:43:04.202095Z",
     "iopub.status.busy": "2020-12-25T17:43:04.201299Z",
     "iopub.status.idle": "2020-12-25T17:43:04.204391Z",
     "shell.execute_reply": "2020-12-25T17:43:04.203867Z"
    },
    "papermill": {
     "duration": 0.036024,
     "end_time": "2020-12-25T17:43:04.204476",
     "exception": false,
     "start_time": "2020-12-25T17:43:04.168452",
     "status": "completed"
    },
    "tags": []
   },
   "outputs": [
    {
     "data": {
      "text/plain": [
       "(2200, 8)"
      ]
     },
     "execution_count": 6,
     "metadata": {},
     "output_type": "execute_result"
    }
   ],
   "source": [
    "df.shape"
   ]
  },
  {
   "cell_type": "code",
   "execution_count": 7,
   "metadata": {
    "execution": {
     "iopub.execute_input": "2020-12-25T17:43:04.268677Z",
     "iopub.status.busy": "2020-12-25T17:43:04.268159Z",
     "iopub.status.idle": "2020-12-25T17:43:04.271432Z",
     "shell.execute_reply": "2020-12-25T17:43:04.271854Z"
    },
    "papermill": {
     "duration": 0.037048,
     "end_time": "2020-12-25T17:43:04.271958",
     "exception": false,
     "start_time": "2020-12-25T17:43:04.234910",
     "status": "completed"
    },
    "tags": []
   },
   "outputs": [
    {
     "data": {
      "text/plain": [
       "Index(['N', 'P', 'K', 'temperature', 'humidity', 'ph', 'rainfall', 'label'], dtype='object')"
      ]
     },
     "execution_count": 7,
     "metadata": {},
     "output_type": "execute_result"
    }
   ],
   "source": [
    "df.columns"
   ]
  },
  {
   "cell_type": "code",
   "execution_count": 8,
   "metadata": {
    "execution": {
     "iopub.execute_input": "2020-12-25T17:43:04.334754Z",
     "iopub.status.busy": "2020-12-25T17:43:04.334259Z",
     "iopub.status.idle": "2020-12-25T17:43:04.339583Z",
     "shell.execute_reply": "2020-12-25T17:43:04.339050Z"
    },
    "papermill": {
     "duration": 0.037533,
     "end_time": "2020-12-25T17:43:04.339665",
     "exception": false,
     "start_time": "2020-12-25T17:43:04.302132",
     "status": "completed"
    },
    "tags": []
   },
   "outputs": [
    {
     "data": {
      "text/plain": [
       "array(['rice', 'maize', 'chickpea', 'kidneybeans', 'pigeonpeas',\n",
       "       'mothbeans', 'mungbean', 'blackgram', 'lentil', 'pomegranate',\n",
       "       'banana', 'mango', 'grapes', 'watermelon', 'muskmelon', 'apple',\n",
       "       'orange', 'papaya', 'coconut', 'cotton', 'jute', 'coffee'],\n",
       "      dtype=object)"
      ]
     },
     "execution_count": 8,
     "metadata": {},
     "output_type": "execute_result"
    }
   ],
   "source": [
    "df['label'].unique()"
   ]
  },
  {
   "cell_type": "code",
   "execution_count": 9,
   "metadata": {
    "execution": {
     "iopub.execute_input": "2020-12-25T17:43:04.406990Z",
     "iopub.status.busy": "2020-12-25T17:43:04.406182Z",
     "iopub.status.idle": "2020-12-25T17:43:04.409397Z",
     "shell.execute_reply": "2020-12-25T17:43:04.409896Z"
    },
    "papermill": {
     "duration": 0.039689,
     "end_time": "2020-12-25T17:43:04.410016",
     "exception": false,
     "start_time": "2020-12-25T17:43:04.370327",
     "status": "completed"
    },
    "tags": []
   },
   "outputs": [
    {
     "data": {
      "text/plain": [
       "N                int64\n",
       "P                int64\n",
       "K                int64\n",
       "temperature    float64\n",
       "humidity       float64\n",
       "ph             float64\n",
       "rainfall       float64\n",
       "label           object\n",
       "dtype: object"
      ]
     },
     "execution_count": 9,
     "metadata": {},
     "output_type": "execute_result"
    }
   ],
   "source": [
    "df.dtypes"
   ]
  },
  {
   "cell_type": "code",
   "execution_count": 10,
   "metadata": {
    "execution": {
     "iopub.execute_input": "2020-12-25T17:43:04.476169Z",
     "iopub.status.busy": "2020-12-25T17:43:04.475372Z",
     "iopub.status.idle": "2020-12-25T17:43:04.482662Z",
     "shell.execute_reply": "2020-12-25T17:43:04.483123Z"
    },
    "papermill": {
     "duration": 0.041845,
     "end_time": "2020-12-25T17:43:04.483247",
     "exception": false,
     "start_time": "2020-12-25T17:43:04.441402",
     "status": "completed"
    },
    "tags": []
   },
   "outputs": [
    {
     "data": {
      "text/plain": [
       "muskmelon      100\n",
       "banana         100\n",
       "kidneybeans    100\n",
       "lentil         100\n",
       "papaya         100\n",
       "mungbean       100\n",
       "mothbeans      100\n",
       "mango          100\n",
       "pigeonpeas     100\n",
       "grapes         100\n",
       "blackgram      100\n",
       "coconut        100\n",
       "jute           100\n",
       "rice           100\n",
       "apple          100\n",
       "pomegranate    100\n",
       "coffee         100\n",
       "watermelon     100\n",
       "maize          100\n",
       "cotton         100\n",
       "orange         100\n",
       "chickpea       100\n",
       "Name: label, dtype: int64"
      ]
     },
     "execution_count": 10,
     "metadata": {},
     "output_type": "execute_result"
    }
   ],
   "source": [
    "df['label'].value_counts()"
   ]
  },
  {
   "cell_type": "markdown",
   "metadata": {
    "papermill": {
     "duration": 0.035621,
     "end_time": "2020-12-25T17:43:05.012300",
     "exception": false,
     "start_time": "2020-12-25T17:43:04.976679",
     "status": "completed"
    },
    "tags": []
   },
   "source": [
    "### Seperating features and target label"
   ]
  },
  {
   "cell_type": "code",
   "execution_count": 11,
   "metadata": {
    "execution": {
     "iopub.execute_input": "2020-12-25T17:43:05.082765Z",
     "iopub.status.busy": "2020-12-25T17:43:05.081946Z",
     "iopub.status.idle": "2020-12-25T17:43:05.087557Z",
     "shell.execute_reply": "2020-12-25T17:43:05.087949Z"
    },
    "papermill": {
     "duration": 0.041719,
     "end_time": "2020-12-25T17:43:05.088061",
     "exception": false,
     "start_time": "2020-12-25T17:43:05.046342",
     "status": "completed"
    },
    "tags": []
   },
   "outputs": [],
   "source": [
    "features = df[['N', 'P','K','temperature', 'humidity', 'ph', 'rainfall']]\n",
    "target = df['label']\n",
    "labels = df['label']"
   ]
  },
  {
   "cell_type": "code",
   "execution_count": 12,
   "metadata": {
    "execution": {
     "iopub.execute_input": "2020-12-25T17:43:05.157598Z",
     "iopub.status.busy": "2020-12-25T17:43:05.156803Z",
     "iopub.status.idle": "2020-12-25T17:43:05.160156Z",
     "shell.execute_reply": "2020-12-25T17:43:05.160598Z"
    },
    "papermill": {
     "duration": 0.03926,
     "end_time": "2020-12-25T17:43:05.160700",
     "exception": false,
     "start_time": "2020-12-25T17:43:05.121440",
     "status": "completed"
    },
    "tags": []
   },
   "outputs": [],
   "source": [
    "# Initializing empty lists to append all model's name and corresponding name\n",
    "acc = []\n",
    "model = []"
   ]
  },
  {
   "cell_type": "code",
   "execution_count": 13,
   "metadata": {
    "execution": {
     "iopub.execute_input": "2020-12-25T17:43:05.231176Z",
     "iopub.status.busy": "2020-12-25T17:43:05.230389Z",
     "iopub.status.idle": "2020-12-25T17:43:05.238764Z",
     "shell.execute_reply": "2020-12-25T17:43:05.239150Z"
    },
    "papermill": {
     "duration": 0.044985,
     "end_time": "2020-12-25T17:43:05.239276",
     "exception": false,
     "start_time": "2020-12-25T17:43:05.194291",
     "status": "completed"
    },
    "tags": []
   },
   "outputs": [],
   "source": [
    "# Splitting into train and test data\n",
    "\n",
    "from sklearn.model_selection import train_test_split\n",
    "Xtrain, Xtest, Ytrain, Ytest = train_test_split(features,target)"
   ]
  },
  {
   "cell_type": "markdown",
   "metadata": {
    "papermill": {
     "duration": 0.033437,
     "end_time": "2020-12-25T17:43:05.306117",
     "exception": false,
     "start_time": "2020-12-25T17:43:05.272680",
     "status": "completed"
    },
    "tags": []
   },
   "source": [
    "# Decision Tree"
   ]
  },
  {
   "cell_type": "code",
   "execution_count": 14,
   "metadata": {
    "execution": {
     "iopub.execute_input": "2020-12-25T17:43:05.382104Z",
     "iopub.status.busy": "2020-12-25T17:43:05.381326Z",
     "iopub.status.idle": "2020-12-25T17:43:05.438864Z",
     "shell.execute_reply": "2020-12-25T17:43:05.439274Z"
    },
    "papermill": {
     "duration": 0.093881,
     "end_time": "2020-12-25T17:43:05.439389",
     "exception": false,
     "start_time": "2020-12-25T17:43:05.345508",
     "status": "completed"
    },
    "tags": []
   },
   "outputs": [
    {
     "name": "stdout",
     "output_type": "stream",
     "text": [
      "DecisionTrees's Accuracy is:  99.45454545454545\n",
      "              precision    recall  f1-score   support\n",
      "\n",
      "       apple       1.00      1.00      1.00        19\n",
      "      banana       1.00      1.00      1.00        27\n",
      "   blackgram       1.00      1.00      1.00        25\n",
      "    chickpea       1.00      1.00      1.00        26\n",
      "     coconut       1.00      1.00      1.00        25\n",
      "      coffee       1.00      1.00      1.00        26\n",
      "      cotton       1.00      1.00      1.00        20\n",
      "      grapes       1.00      1.00      1.00        24\n",
      "        jute       0.95      0.95      0.95        19\n",
      " kidneybeans       1.00      1.00      1.00        21\n",
      "      lentil       1.00      0.97      0.98        31\n",
      "       maize       1.00      1.00      1.00        23\n",
      "       mango       1.00      1.00      1.00        22\n",
      "   mothbeans       0.97      1.00      0.98        29\n",
      "    mungbean       1.00      1.00      1.00        29\n",
      "   muskmelon       1.00      1.00      1.00        21\n",
      "      orange       1.00      1.00      1.00        22\n",
      "      papaya       1.00      1.00      1.00        29\n",
      "  pigeonpeas       1.00      1.00      1.00        28\n",
      " pomegranate       1.00      1.00      1.00        26\n",
      "        rice       0.95      0.95      0.95        20\n",
      "  watermelon       1.00      1.00      1.00        38\n",
      "\n",
      "    accuracy                           0.99       550\n",
      "   macro avg       0.99      0.99      0.99       550\n",
      "weighted avg       0.99      0.99      0.99       550\n",
      "\n"
     ]
    }
   ],
   "source": [
    "from sklearn.tree import DecisionTreeClassifier\n",
    "\n",
    "DecisionTree = DecisionTreeClassifier()\n",
    "\n",
    "#training a model\n",
    "DecisionTree.fit(Xtrain,Ytrain)\n",
    "\n",
    "predicted_values = DecisionTree.predict(Xtest)\n",
    "x = metrics.accuracy_score(Ytest, predicted_values)\n",
    "acc.append(x)\n",
    "model.append('Decision Tree')\n",
    "print(\"DecisionTrees's Accuracy is: \", x*100)\n",
    "\n",
    "print(classification_report(Ytest,predicted_values))"
   ]
  },
  {
   "cell_type": "code",
   "execution_count": 15,
   "metadata": {
    "execution": {
     "iopub.execute_input": "2020-12-25T17:43:05.511318Z",
     "iopub.status.busy": "2020-12-25T17:43:05.510628Z",
     "iopub.status.idle": "2020-12-25T17:43:05.513354Z",
     "shell.execute_reply": "2020-12-25T17:43:05.512823Z"
    },
    "papermill": {
     "duration": 0.039972,
     "end_time": "2020-12-25T17:43:05.513438",
     "exception": false,
     "start_time": "2020-12-25T17:43:05.473466",
     "status": "completed"
    },
    "tags": []
   },
   "outputs": [],
   "source": [
    "from sklearn.model_selection import cross_val_score"
   ]
  },
  {
   "cell_type": "code",
   "execution_count": 16,
   "metadata": {
    "execution": {
     "iopub.execute_input": "2020-12-25T17:43:05.589874Z",
     "iopub.status.busy": "2020-12-25T17:43:05.589360Z",
     "iopub.status.idle": "2020-12-25T17:43:05.718348Z",
     "shell.execute_reply": "2020-12-25T17:43:05.718933Z"
    },
    "papermill": {
     "duration": 0.171655,
     "end_time": "2020-12-25T17:43:05.719081",
     "exception": false,
     "start_time": "2020-12-25T17:43:05.547426",
     "status": "completed"
    },
    "tags": []
   },
   "outputs": [],
   "source": [
    "# Cross validation score (Decision Tree)\n",
    "score = cross_val_score(DecisionTree, features, target,cv=5)"
   ]
  },
  {
   "cell_type": "code",
   "execution_count": 17,
   "metadata": {
    "execution": {
     "iopub.execute_input": "2020-12-25T17:43:05.798346Z",
     "iopub.status.busy": "2020-12-25T17:43:05.797578Z",
     "iopub.status.idle": "2020-12-25T17:43:05.801313Z",
     "shell.execute_reply": "2020-12-25T17:43:05.800784Z"
    },
    "papermill": {
     "duration": 0.044583,
     "end_time": "2020-12-25T17:43:05.801407",
     "exception": false,
     "start_time": "2020-12-25T17:43:05.756824",
     "status": "completed"
    },
    "tags": []
   },
   "outputs": [
    {
     "data": {
      "text/plain": [
       "array([0.99090909, 0.98409091, 0.99090909, 0.99090909, 0.98409091])"
      ]
     },
     "execution_count": 17,
     "metadata": {},
     "output_type": "execute_result"
    }
   ],
   "source": [
    "score"
   ]
  },
  {
   "cell_type": "markdown",
   "metadata": {
    "papermill": {
     "duration": 0.0343,
     "end_time": "2020-12-25T17:43:05.870225",
     "exception": false,
     "start_time": "2020-12-25T17:43:05.835925",
     "status": "completed"
    },
    "tags": []
   },
   "source": [
    "### Saving trained Decision Tree model"
   ]
  },
  {
   "cell_type": "code",
   "execution_count": 18,
   "metadata": {
    "execution": {
     "iopub.execute_input": "2020-12-25T17:43:05.945134Z",
     "iopub.status.busy": "2020-12-25T17:43:05.944323Z",
     "iopub.status.idle": "2020-12-25T17:43:05.947948Z",
     "shell.execute_reply": "2020-12-25T17:43:05.947482Z"
    },
    "papermill": {
     "duration": 0.042144,
     "end_time": "2020-12-25T17:43:05.948033",
     "exception": false,
     "start_time": "2020-12-25T17:43:05.905889",
     "status": "completed"
    },
    "tags": []
   },
   "outputs": [],
   "source": [
    "import pickle\n",
    "# Dump the trained Naive Bayes classifier with Pickle\n",
    "DT_pkl_filename = 'DecisionTree.pkl'\n",
    "# Open the file to save as pkl file\n",
    "DT_Model_pkl = open(DT_pkl_filename, 'wb')\n",
    "pickle.dump(DecisionTree, DT_Model_pkl)\n",
    "# Close the pickle instances\n",
    "DT_Model_pkl.close()"
   ]
  },
  {
   "cell_type": "markdown",
   "metadata": {
    "papermill": {
     "duration": 0.036295,
     "end_time": "2020-12-25T17:43:08.647681",
     "exception": false,
     "start_time": "2020-12-25T17:43:08.611386",
     "status": "completed"
    },
    "tags": []
   },
   "source": [
    "# Logistic Regression"
   ]
  },
  {
   "cell_type": "code",
   "execution_count": 19,
   "metadata": {
    "execution": {
     "iopub.execute_input": "2020-12-25T17:43:08.728752Z",
     "iopub.status.busy": "2020-12-25T17:43:08.728228Z",
     "iopub.status.idle": "2020-12-25T17:43:08.990800Z",
     "shell.execute_reply": "2020-12-25T17:43:08.991758Z"
    },
    "papermill": {
     "duration": 0.308032,
     "end_time": "2020-12-25T17:43:08.991925",
     "exception": false,
     "start_time": "2020-12-25T17:43:08.683893",
     "status": "completed"
    },
    "tags": []
   },
   "outputs": [
    {
     "name": "stdout",
     "output_type": "stream",
     "text": [
      "Logistic Regression's Accuracy is:  0.9545454545454546\n",
      "              precision    recall  f1-score   support\n",
      "\n",
      "       apple       1.00      1.00      1.00        19\n",
      "      banana       1.00      1.00      1.00        27\n",
      "   blackgram       0.83      0.96      0.89        25\n",
      "    chickpea       1.00      1.00      1.00        26\n",
      "     coconut       0.93      1.00      0.96        25\n",
      "      coffee       0.96      0.85      0.90        26\n",
      "      cotton       0.90      0.90      0.90        20\n",
      "      grapes       1.00      1.00      1.00        24\n",
      "        jute       0.75      0.95      0.84        19\n",
      " kidneybeans       0.95      1.00      0.98        21\n",
      "      lentil       0.94      0.97      0.95        31\n",
      "       maize       0.87      0.87      0.87        23\n",
      "       mango       1.00      1.00      1.00        22\n",
      "   mothbeans       1.00      0.86      0.93        29\n",
      "    mungbean       1.00      0.93      0.96        29\n",
      "   muskmelon       1.00      1.00      1.00        21\n",
      "      orange       1.00      1.00      1.00        22\n",
      "      papaya       1.00      0.90      0.95        29\n",
      "  pigeonpeas       1.00      0.96      0.98        28\n",
      " pomegranate       1.00      1.00      1.00        26\n",
      "        rice       0.85      0.85      0.85        20\n",
      "  watermelon       1.00      1.00      1.00        38\n",
      "\n",
      "    accuracy                           0.95       550\n",
      "   macro avg       0.95      0.95      0.95       550\n",
      "weighted avg       0.96      0.95      0.96       550\n",
      "\n"
     ]
    },
    {
     "name": "stderr",
     "output_type": "stream",
     "text": [
      "C:\\Users\\swapnil amin\\anaconda3\\lib\\site-packages\\sklearn\\linear_model\\_logistic.py:762: ConvergenceWarning: lbfgs failed to converge (status=1):\n",
      "STOP: TOTAL NO. of ITERATIONS REACHED LIMIT.\n",
      "\n",
      "Increase the number of iterations (max_iter) or scale the data as shown in:\n",
      "    https://scikit-learn.org/stable/modules/preprocessing.html\n",
      "Please also refer to the documentation for alternative solver options:\n",
      "    https://scikit-learn.org/stable/modules/linear_model.html#logistic-regression\n",
      "  n_iter_i = _check_optimize_result(\n"
     ]
    }
   ],
   "source": [
    "from sklearn.linear_model import LogisticRegression\n",
    "\n",
    "LogReg = LogisticRegression(random_state=2)\n",
    "\n",
    "LogReg.fit(Xtrain,Ytrain)\n",
    "\n",
    "predicted_values = LogReg.predict(Xtest)\n",
    "\n",
    "x = metrics.accuracy_score(Ytest, predicted_values)\n",
    "acc.append(x)\n",
    "model.append('Logistic Regression')\n",
    "print(\"Logistic Regression's Accuracy is: \", x)\n",
    "\n",
    "print(classification_report(Ytest,predicted_values))"
   ]
  },
  {
   "cell_type": "markdown",
   "metadata": {
    "papermill": {
     "duration": 0.037258,
     "end_time": "2020-12-25T17:43:10.556881",
     "exception": false,
     "start_time": "2020-12-25T17:43:10.519623",
     "status": "completed"
    },
    "tags": []
   },
   "source": [
    "# Random Forest"
   ]
  },
  {
   "cell_type": "code",
   "execution_count": 21,
   "metadata": {
    "execution": {
     "iopub.execute_input": "2020-12-25T17:43:10.637176Z",
     "iopub.status.busy": "2020-12-25T17:43:10.636618Z",
     "iopub.status.idle": "2020-12-25T17:43:10.758714Z",
     "shell.execute_reply": "2020-12-25T17:43:10.758234Z"
    },
    "papermill": {
     "duration": 0.164699,
     "end_time": "2020-12-25T17:43:10.758807",
     "exception": false,
     "start_time": "2020-12-25T17:43:10.594108",
     "status": "completed"
    },
    "tags": []
   },
   "outputs": [
    {
     "name": "stdout",
     "output_type": "stream",
     "text": [
      "RF's Accuracy is:  0.9981818181818182\n",
      "              precision    recall  f1-score   support\n",
      "\n",
      "       apple       1.00      1.00      1.00        19\n",
      "      banana       1.00      1.00      1.00        27\n",
      "   blackgram       1.00      1.00      1.00        25\n",
      "    chickpea       1.00      1.00      1.00        26\n",
      "     coconut       1.00      1.00      1.00        25\n",
      "      coffee       1.00      1.00      1.00        26\n",
      "      cotton       1.00      1.00      1.00        20\n",
      "      grapes       1.00      1.00      1.00        24\n",
      "        jute       0.95      1.00      0.97        19\n",
      " kidneybeans       1.00      1.00      1.00        21\n",
      "      lentil       1.00      1.00      1.00        31\n",
      "       maize       1.00      1.00      1.00        23\n",
      "       mango       1.00      1.00      1.00        22\n",
      "   mothbeans       1.00      1.00      1.00        29\n",
      "    mungbean       1.00      1.00      1.00        29\n",
      "   muskmelon       1.00      1.00      1.00        21\n",
      "      orange       1.00      1.00      1.00        22\n",
      "      papaya       1.00      1.00      1.00        29\n",
      "  pigeonpeas       1.00      1.00      1.00        28\n",
      " pomegranate       1.00      1.00      1.00        26\n",
      "        rice       1.00      0.95      0.97        20\n",
      "  watermelon       1.00      1.00      1.00        38\n",
      "\n",
      "    accuracy                           1.00       550\n",
      "   macro avg       1.00      1.00      1.00       550\n",
      "weighted avg       1.00      1.00      1.00       550\n",
      "\n"
     ]
    }
   ],
   "source": [
    "from sklearn.ensemble import RandomForestClassifier\n",
    "\n",
    "RF = RandomForestClassifier(n_estimators=20, random_state=0)\n",
    "RF.fit(Xtrain,Ytrain)\n",
    "\n",
    "predicted_values = RF.predict(Xtest)\n",
    "\n",
    "x = metrics.accuracy_score(Ytest, predicted_values)\n",
    "acc.append(x)\n",
    "model.append('RF')\n",
    "print(\"RF's Accuracy is: \", x)\n",
    "\n",
    "print(classification_report(Ytest,predicted_values))"
   ]
  },
  {
   "cell_type": "code",
   "execution_count": 22,
   "metadata": {
    "execution": {
     "iopub.execute_input": "2020-12-25T17:43:10.844782Z",
     "iopub.status.busy": "2020-12-25T17:43:10.843900Z",
     "iopub.status.idle": "2020-12-25T17:43:11.231113Z",
     "shell.execute_reply": "2020-12-25T17:43:11.231511Z"
    },
    "papermill": {
     "duration": 0.434587,
     "end_time": "2020-12-25T17:43:11.231643",
     "exception": false,
     "start_time": "2020-12-25T17:43:10.797056",
     "status": "completed"
    },
    "tags": []
   },
   "outputs": [
    {
     "data": {
      "text/plain": [
       "array([0.99772727, 0.99545455, 0.99772727, 0.99318182, 0.98863636])"
      ]
     },
     "execution_count": 22,
     "metadata": {},
     "output_type": "execute_result"
    }
   ],
   "source": [
    "# Cross validation score (Random Forest)\n",
    "score = cross_val_score(RF,features,target,cv=5)\n",
    "score"
   ]
  },
  {
   "cell_type": "markdown",
   "metadata": {
    "papermill": {
     "duration": 0.041321,
     "end_time": "2020-12-25T17:43:15.359816",
     "exception": false,
     "start_time": "2020-12-25T17:43:15.318495",
     "status": "completed"
    },
    "tags": []
   },
   "source": [
    "## Accuracy Comparison"
   ]
  },
  {
   "cell_type": "code",
   "execution_count": 23,
   "metadata": {
    "execution": {
     "iopub.execute_input": "2020-12-25T17:43:15.441385Z",
     "iopub.status.busy": "2020-12-25T17:43:15.440884Z",
     "iopub.status.idle": "2020-12-25T17:43:15.581323Z",
     "shell.execute_reply": "2020-12-25T17:43:15.581831Z"
    },
    "papermill": {
     "duration": 0.182519,
     "end_time": "2020-12-25T17:43:15.581943",
     "exception": false,
     "start_time": "2020-12-25T17:43:15.399424",
     "status": "completed"
    },
    "tags": []
   },
   "outputs": [
    {
     "data": {
      "text/plain": [
       "<AxesSubplot:title={'center':'Accuracy Comparison'}, xlabel='Accuracy', ylabel='Algorithm'>"
      ]
     },
     "execution_count": 23,
     "metadata": {},
     "output_type": "execute_result"
    },
    {
     "data": {
      "image/png": "[encoded data removed]",
      "text/plain": [
       "<Figure size 1000x500 with 1 Axes>"
      ]
     },
     "metadata": {
      "needs_background": "light"
     },
     "output_type": "display_data"
    }
   ],
   "source": [
    "plt.figure(figsize=[10,5],dpi = 100)\n",
    "plt.title('Accuracy Comparison')\n",
    "plt.xlabel('Accuracy')\n",
    "plt.ylabel('Algorithm')\n",
    "sns.barplot(x = acc,y = model,palette='dark')"
   ]
  },
  {
   "cell_type": "markdown",
   "metadata": {
    "papermill": {
     "duration": 0.041952,
     "end_time": "2020-12-25T17:43:15.756950",
     "exception": false,
     "start_time": "2020-12-25T17:43:15.714998",
     "status": "completed"
    },
    "tags": []
   },
   "source": [
    "## Making a prediction"
   ]
  },
  {
   "cell_type": "code",
   "execution_count": 24,
   "metadata": {
    "execution": {
     "iopub.execute_input": "2020-12-25T17:43:15.847402Z",
     "iopub.status.busy": "2020-12-25T17:43:15.846830Z",
     "iopub.status.idle": "2020-12-25T17:43:15.850942Z",
     "shell.execute_reply": "2020-12-25T17:43:15.851479Z"
    },
    "papermill": {
     "duration": 0.051889,
     "end_time": "2020-12-25T17:43:15.851583",
     "exception": false,
     "start_time": "2020-12-25T17:43:15.799694",
     "status": "completed"
    },
    "tags": []
   },
   "outputs": [
    {
     "name": "stdout",
     "output_type": "stream",
     "text": [
      "['coffee']\n"
     ]
    }
   ],
   "source": [
    "data = np.array([[104,18, 30, 23.603016, 60.3, 6.7, 140.91]])\n",
    "prediction = RF.predict(data)\n",
    "print(prediction)"
   ]
  },
  {
   "cell_type": "code",
   "execution_count": 25,
   "metadata": {
    "execution": {
     "iopub.execute_input": "2020-12-25T17:43:15.937084Z",
     "iopub.status.busy": "2020-12-25T17:43:15.936591Z",
     "iopub.status.idle": "2020-12-25T17:43:15.943917Z",
     "shell.execute_reply": "2020-12-25T17:43:15.944404Z"
    },
    "papermill": {
     "duration": 0.051262,
     "end_time": "2020-12-25T17:43:15.944514",
     "exception": false,
     "start_time": "2020-12-25T17:43:15.893252",
     "status": "completed"
    },
    "tags": []
   },
   "outputs": [
    {
     "name": "stdout",
     "output_type": "stream",
     "text": [
      "['jute']\n"
     ]
    }
   ],
   "source": [
    "data = np.array([[83, 45, 60, 28, 70.3, 7.0, 150.9]])\n",
    "prediction = RF.predict(data)\n",
    "print(prediction)"
   ]
  }
 ],
 "metadata": {
  "kernelspec": {
   "display_name": "Python 3",
   "language": "python",
   "name": "python3"
  },
  "language_info": {
   "codemirror_mode": {
    "name": "ipython",
    "version": 3
   },
   "file_extension": ".py",
   "mimetype": "text/x-python",
   "name": "python",
   "nbconvert_exporter": "python",
   "pygments_lexer": "ipython3",
   "version": "3.8.5"
  },
  "papermill": {
   "duration": 18.192047,
   "end_time": "2020-12-25T17:43:16.257975",
   "environment_variables": {},
   "exception": null,
   "input_path": "__notebook__.ipynb",
   "output_path": "__notebook__.ipynb",
   "parameters": {},
   "start_time": "2020-12-25T17:42:58.065928",
   "version": "2.1.0"
  }
 },
 "nbformat": 4,
 "nbformat_minor": 4
}
